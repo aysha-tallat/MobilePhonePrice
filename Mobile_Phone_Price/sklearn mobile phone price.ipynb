{
 "cells": [
  {
   "cell_type": "code",
   "execution_count": 1,
   "id": "e90f2a1d",
   "metadata": {},
   "outputs": [],
   "source": [
    "import numpy as np\n",
    "import pandas as pd\n",
    "import matplotlib.pyplot as plt\n",
    "%matplotlib inline\n",
    "np.random.seed(1)"
   ]
  },
  {
   "cell_type": "markdown",
   "id": "60382950",
   "metadata": {},
   "source": [
    "# Reading Data"
   ]
  },
  {
   "cell_type": "code",
   "execution_count": 2,
   "id": "848c2f7d",
   "metadata": {},
   "outputs": [],
   "source": [
    "phone= pd.read_csv('Mobile phone price.csv')"
   ]
  },
  {
   "cell_type": "code",
   "execution_count": 3,
   "id": "a105f3a1",
   "metadata": {
    "scrolled": false
   },
   "outputs": [
    {
     "data": {
      "text/html": [
       "<div>\n",
       "<style scoped>\n",
       "    .dataframe tbody tr th:only-of-type {\n",
       "        vertical-align: middle;\n",
       "    }\n",
       "\n",
       "    .dataframe tbody tr th {\n",
       "        vertical-align: top;\n",
       "    }\n",
       "\n",
       "    .dataframe thead th {\n",
       "        text-align: right;\n",
       "    }\n",
       "</style>\n",
       "<table border=\"1\" class=\"dataframe\">\n",
       "  <thead>\n",
       "    <tr style=\"text-align: right;\">\n",
       "      <th></th>\n",
       "      <th>Brand</th>\n",
       "      <th>Model</th>\n",
       "      <th>Storage</th>\n",
       "      <th>RAM</th>\n",
       "      <th>Screen Size (inches)</th>\n",
       "      <th>Camera (MP)</th>\n",
       "      <th>Battery Capacity (mAh)</th>\n",
       "      <th>Price ($)</th>\n",
       "    </tr>\n",
       "  </thead>\n",
       "  <tbody>\n",
       "    <tr>\n",
       "      <th>0</th>\n",
       "      <td>Apple</td>\n",
       "      <td>iPhone 13 Pro</td>\n",
       "      <td>128 GB</td>\n",
       "      <td>6 GB</td>\n",
       "      <td>6.1</td>\n",
       "      <td>12 + 12 + 12</td>\n",
       "      <td>3095</td>\n",
       "      <td>999</td>\n",
       "    </tr>\n",
       "    <tr>\n",
       "      <th>1</th>\n",
       "      <td>Samsung</td>\n",
       "      <td>Galaxy S21 Ultra</td>\n",
       "      <td>256 GB</td>\n",
       "      <td>12 GB</td>\n",
       "      <td>6.8</td>\n",
       "      <td>108 + 10 + 10 + 12</td>\n",
       "      <td>5000</td>\n",
       "      <td>1199</td>\n",
       "    </tr>\n",
       "    <tr>\n",
       "      <th>2</th>\n",
       "      <td>OnePlus</td>\n",
       "      <td>9 Pro</td>\n",
       "      <td>128 GB</td>\n",
       "      <td>8 GB</td>\n",
       "      <td>6.7</td>\n",
       "      <td>48 + 50 + 8 + 2</td>\n",
       "      <td>4500</td>\n",
       "      <td>899</td>\n",
       "    </tr>\n",
       "    <tr>\n",
       "      <th>3</th>\n",
       "      <td>Xiaomi</td>\n",
       "      <td>Redmi Note 10 Pro</td>\n",
       "      <td>128 GB</td>\n",
       "      <td>6 GB</td>\n",
       "      <td>6.67</td>\n",
       "      <td>64 + 8 + 5 + 2</td>\n",
       "      <td>5020</td>\n",
       "      <td>279</td>\n",
       "    </tr>\n",
       "    <tr>\n",
       "      <th>4</th>\n",
       "      <td>Google</td>\n",
       "      <td>Pixel 6</td>\n",
       "      <td>128 GB</td>\n",
       "      <td>8 GB</td>\n",
       "      <td>6.4</td>\n",
       "      <td>50 + 12.2</td>\n",
       "      <td>4614</td>\n",
       "      <td>799</td>\n",
       "    </tr>\n",
       "  </tbody>\n",
       "</table>\n",
       "</div>"
      ],
      "text/plain": [
       "     Brand              Model Storage    RAM  Screen Size (inches)  \\\n",
       "0    Apple      iPhone 13 Pro   128 GB   6 GB                  6.1   \n",
       "1  Samsung   Galaxy S21 Ultra   256 GB  12 GB                  6.8   \n",
       "2  OnePlus              9 Pro   128 GB   8 GB                  6.7   \n",
       "3   Xiaomi  Redmi Note 10 Pro   128 GB   6 GB                 6.67   \n",
       "4   Google            Pixel 6   128 GB   8 GB                  6.4   \n",
       "\n",
       "          Camera (MP)  Battery Capacity (mAh) Price ($)  \n",
       "0        12 + 12 + 12                    3095       999  \n",
       "1  108 + 10 + 10 + 12                    5000      1199  \n",
       "2     48 + 50 + 8 + 2                    4500       899  \n",
       "3      64 + 8 + 5 + 2                    5020       279  \n",
       "4           50 + 12.2                    4614       799  "
      ]
     },
     "execution_count": 3,
     "metadata": {},
     "output_type": "execute_result"
    }
   ],
   "source": [
    "phone.head()"
   ]
  },
  {
   "cell_type": "markdown",
   "id": "d44c6bcb",
   "metadata": {},
   "source": [
    "# Data Cleaning"
   ]
  },
  {
   "cell_type": "code",
   "execution_count": 4,
   "id": "21938fa8",
   "metadata": {},
   "outputs": [
    {
     "data": {
      "text/plain": [
       "Brand                     object\n",
       "Model                     object\n",
       "Storage                   object\n",
       "RAM                       object\n",
       "Screen Size (inches)      object\n",
       "Camera (MP)               object\n",
       "Battery Capacity (mAh)     int64\n",
       "Price ($)                 object\n",
       "dtype: object"
      ]
     },
     "execution_count": 4,
     "metadata": {},
     "output_type": "execute_result"
    }
   ],
   "source": [
    "phone.dtypes"
   ]
  },
  {
   "cell_type": "code",
   "execution_count": 5,
   "id": "0e08c672",
   "metadata": {},
   "outputs": [
    {
     "data": {
      "text/plain": [
       "Brand                     0\n",
       "Model                     0\n",
       "Storage                   0\n",
       "RAM                       0\n",
       "Screen Size (inches)      0\n",
       "Camera (MP)               0\n",
       "Battery Capacity (mAh)    0\n",
       "Price ($)                 0\n",
       "dtype: int64"
      ]
     },
     "execution_count": 5,
     "metadata": {},
     "output_type": "execute_result"
    }
   ],
   "source": [
    "phone.isna().sum()"
   ]
  },
  {
   "cell_type": "code",
   "execution_count": 6,
   "id": "ae543d45",
   "metadata": {},
   "outputs": [
    {
     "data": {
      "text/plain": [
       "<Axes: >"
      ]
     },
     "execution_count": 6,
     "metadata": {},
     "output_type": "execute_result"
    },
    {
     "data": {
      "image/png": "[encoded data removed]",
      "text/plain": [
       "<Figure size 640x480 with 1 Axes>"
      ]
     },
     "metadata": {},
     "output_type": "display_data"
    }
   ],
   "source": [
    "phone['Model'].hist()"
   ]
  },
  {
   "cell_type": "code",
   "execution_count": 7,
   "id": "bddd951c",
   "metadata": {},
   "outputs": [
    {
     "name": "stdout",
     "output_type": "stream",
     "text": [
      "Poco X3 Pro           6\n",
      "Y33s                  5\n",
      "iPhone XR             5\n",
      "C21Y                  5\n",
      "Redmi 10 Prime        5\n",
      "                     ..\n",
      "Mi 11 Lite NE         1\n",
      "Moto G Stylus 2021    1\n",
      "A54s 5G               1\n",
      "Galaxy M52            1\n",
      "Reno3                 1\n",
      "Name: Model, Length: 239, dtype: int64\n"
     ]
    }
   ],
   "source": [
    "model_frequency = phone['Model'].value_counts()\n",
    "print(model_frequency)"
   ]
  },
  {
   "cell_type": "code",
   "execution_count": 8,
   "id": "8e6998de",
   "metadata": {},
   "outputs": [
    {
     "data": {
      "text/html": [
       "<div>\n",
       "<style scoped>\n",
       "    .dataframe tbody tr th:only-of-type {\n",
       "        vertical-align: middle;\n",
       "    }\n",
       "\n",
       "    .dataframe tbody tr th {\n",
       "        vertical-align: top;\n",
       "    }\n",
       "\n",
       "    .dataframe thead th {\n",
       "        text-align: right;\n",
       "    }\n",
       "</style>\n",
       "<table border=\"1\" class=\"dataframe\">\n",
       "  <thead>\n",
       "    <tr style=\"text-align: right;\">\n",
       "      <th></th>\n",
       "      <th>Brand</th>\n",
       "      <th>Storage</th>\n",
       "      <th>RAM</th>\n",
       "      <th>Screen Size (inches)</th>\n",
       "      <th>Camera (MP)</th>\n",
       "      <th>Battery Capacity (mAh)</th>\n",
       "      <th>Price ($)</th>\n",
       "    </tr>\n",
       "  </thead>\n",
       "  <tbody>\n",
       "    <tr>\n",
       "      <th>0</th>\n",
       "      <td>Apple</td>\n",
       "      <td>128 GB</td>\n",
       "      <td>6 GB</td>\n",
       "      <td>6.1</td>\n",
       "      <td>12 + 12 + 12</td>\n",
       "      <td>3095</td>\n",
       "      <td>999</td>\n",
       "    </tr>\n",
       "    <tr>\n",
       "      <th>1</th>\n",
       "      <td>Samsung</td>\n",
       "      <td>256 GB</td>\n",
       "      <td>12 GB</td>\n",
       "      <td>6.8</td>\n",
       "      <td>108 + 10 + 10 + 12</td>\n",
       "      <td>5000</td>\n",
       "      <td>1199</td>\n",
       "    </tr>\n",
       "    <tr>\n",
       "      <th>2</th>\n",
       "      <td>OnePlus</td>\n",
       "      <td>128 GB</td>\n",
       "      <td>8 GB</td>\n",
       "      <td>6.7</td>\n",
       "      <td>48 + 50 + 8 + 2</td>\n",
       "      <td>4500</td>\n",
       "      <td>899</td>\n",
       "    </tr>\n",
       "    <tr>\n",
       "      <th>3</th>\n",
       "      <td>Xiaomi</td>\n",
       "      <td>128 GB</td>\n",
       "      <td>6 GB</td>\n",
       "      <td>6.67</td>\n",
       "      <td>64 + 8 + 5 + 2</td>\n",
       "      <td>5020</td>\n",
       "      <td>279</td>\n",
       "    </tr>\n",
       "    <tr>\n",
       "      <th>4</th>\n",
       "      <td>Google</td>\n",
       "      <td>128 GB</td>\n",
       "      <td>8 GB</td>\n",
       "      <td>6.4</td>\n",
       "      <td>50 + 12.2</td>\n",
       "      <td>4614</td>\n",
       "      <td>799</td>\n",
       "    </tr>\n",
       "  </tbody>\n",
       "</table>\n",
       "</div>"
      ],
      "text/plain": [
       "     Brand Storage    RAM  Screen Size (inches)         Camera (MP)  \\\n",
       "0    Apple   128 GB   6 GB                  6.1        12 + 12 + 12   \n",
       "1  Samsung   256 GB  12 GB                  6.8  108 + 10 + 10 + 12   \n",
       "2  OnePlus   128 GB   8 GB                  6.7     48 + 50 + 8 + 2   \n",
       "3   Xiaomi   128 GB   6 GB                 6.67      64 + 8 + 5 + 2   \n",
       "4   Google   128 GB   8 GB                  6.4           50 + 12.2   \n",
       "\n",
       "   Battery Capacity (mAh) Price ($)  \n",
       "0                    3095       999  \n",
       "1                    5000      1199  \n",
       "2                    4500       899  \n",
       "3                    5020       279  \n",
       "4                    4614       799  "
      ]
     },
     "execution_count": 8,
     "metadata": {},
     "output_type": "execute_result"
    }
   ],
   "source": [
    "#dimensionality reduction due to over spread,name doesn't make significat difference\n",
    "phone.drop('Model', axis=1, inplace=True)\n",
    "phone.head()"
   ]
  },
  {
   "cell_type": "code",
   "execution_count": 9,
   "id": "0d5c1fb2",
   "metadata": {},
   "outputs": [
    {
     "data": {
      "text/plain": [
       "Index(['Brand', 'Storage ', 'RAM ', 'Screen Size (inches)', 'Camera (MP)',\n",
       "       'Battery Capacity (mAh)', 'Price ($)'],\n",
       "      dtype='object')"
      ]
     },
     "execution_count": 9,
     "metadata": {},
     "output_type": "execute_result"
    }
   ],
   "source": [
    "phone.columns"
   ]
  },
  {
   "cell_type": "code",
   "execution_count": 10,
   "id": "86404b66",
   "metadata": {},
   "outputs": [
    {
     "data": {
      "text/html": [
       "<div>\n",
       "<style scoped>\n",
       "    .dataframe tbody tr th:only-of-type {\n",
       "        vertical-align: middle;\n",
       "    }\n",
       "\n",
       "    .dataframe tbody tr th {\n",
       "        vertical-align: top;\n",
       "    }\n",
       "\n",
       "    .dataframe thead th {\n",
       "        text-align: right;\n",
       "    }\n",
       "</style>\n",
       "<table border=\"1\" class=\"dataframe\">\n",
       "  <thead>\n",
       "    <tr style=\"text-align: right;\">\n",
       "      <th></th>\n",
       "      <th>Brand</th>\n",
       "      <th>Storage</th>\n",
       "      <th>RAM</th>\n",
       "      <th>Screen</th>\n",
       "      <th>Camera</th>\n",
       "      <th>Battery</th>\n",
       "      <th>Price</th>\n",
       "    </tr>\n",
       "  </thead>\n",
       "  <tbody>\n",
       "    <tr>\n",
       "      <th>0</th>\n",
       "      <td>Apple</td>\n",
       "      <td>128 GB</td>\n",
       "      <td>6 GB</td>\n",
       "      <td>6.1</td>\n",
       "      <td>12 + 12 + 12</td>\n",
       "      <td>3095</td>\n",
       "      <td>999</td>\n",
       "    </tr>\n",
       "    <tr>\n",
       "      <th>1</th>\n",
       "      <td>Samsung</td>\n",
       "      <td>256 GB</td>\n",
       "      <td>12 GB</td>\n",
       "      <td>6.8</td>\n",
       "      <td>108 + 10 + 10 + 12</td>\n",
       "      <td>5000</td>\n",
       "      <td>1199</td>\n",
       "    </tr>\n",
       "    <tr>\n",
       "      <th>2</th>\n",
       "      <td>OnePlus</td>\n",
       "      <td>128 GB</td>\n",
       "      <td>8 GB</td>\n",
       "      <td>6.7</td>\n",
       "      <td>48 + 50 + 8 + 2</td>\n",
       "      <td>4500</td>\n",
       "      <td>899</td>\n",
       "    </tr>\n",
       "    <tr>\n",
       "      <th>3</th>\n",
       "      <td>Xiaomi</td>\n",
       "      <td>128 GB</td>\n",
       "      <td>6 GB</td>\n",
       "      <td>6.67</td>\n",
       "      <td>64 + 8 + 5 + 2</td>\n",
       "      <td>5020</td>\n",
       "      <td>279</td>\n",
       "    </tr>\n",
       "    <tr>\n",
       "      <th>4</th>\n",
       "      <td>Google</td>\n",
       "      <td>128 GB</td>\n",
       "      <td>8 GB</td>\n",
       "      <td>6.4</td>\n",
       "      <td>50 + 12.2</td>\n",
       "      <td>4614</td>\n",
       "      <td>799</td>\n",
       "    </tr>\n",
       "  </tbody>\n",
       "</table>\n",
       "</div>"
      ],
      "text/plain": [
       "     Brand Storage    RAM Screen              Camera  Battery Price\n",
       "0    Apple  128 GB   6 GB    6.1        12 + 12 + 12     3095   999\n",
       "1  Samsung  256 GB  12 GB    6.8  108 + 10 + 10 + 12     5000  1199\n",
       "2  OnePlus  128 GB   8 GB    6.7     48 + 50 + 8 + 2     4500   899\n",
       "3   Xiaomi  128 GB   6 GB   6.67      64 + 8 + 5 + 2     5020   279\n",
       "4   Google  128 GB   8 GB    6.4           50 + 12.2     4614   799"
      ]
     },
     "execution_count": 10,
     "metadata": {},
     "output_type": "execute_result"
    }
   ],
   "source": [
    "#clean column names\n",
    "new_col_names ={\n",
    "               'Storage ': 'Storage',\n",
    "               'RAM ': 'RAM',\n",
    "               'Screen Size (inches)': 'Screen',\n",
    "               'Camera (MP)': 'Camera',\n",
    "               'Battery Capacity (mAh)':'Battery',\n",
    "               'Price ($)': 'Price'}\n",
    "phone.rename(columns = new_col_names, inplace=True)\n",
    "phone.head()"
   ]
  },
  {
   "cell_type": "code",
   "execution_count": 11,
   "id": "485d0c54",
   "metadata": {},
   "outputs": [
    {
     "name": "stdout",
     "output_type": "stream",
     "text": [
      "128GB     125\n",
      "128        74\n",
      "128 GB     51\n",
      "64GB       49\n",
      "32GB       27\n",
      "256        23\n",
      "64         18\n",
      "64 GB      16\n",
      "256GB      10\n",
      "256 GB      7\n",
      "32 GB       3\n",
      "512         3\n",
      "32          1\n",
      "Name: Storage, dtype: int64\n"
     ]
    }
   ],
   "source": [
    "Storage_frequency = phone['Storage'].value_counts()\n",
    "print(Storage_frequency)"
   ]
  },
  {
   "cell_type": "code",
   "execution_count": 12,
   "id": "6c19920d",
   "metadata": {},
   "outputs": [],
   "source": [
    "phone['Storage']=phone['Storage'].astype(str).str.replace('GB','').str.replace(' GB','').astype(int)"
   ]
  },
  {
   "cell_type": "code",
   "execution_count": 13,
   "id": "42a0cb22",
   "metadata": {},
   "outputs": [
    {
     "name": "stdout",
     "output_type": "stream",
     "text": [
      "4GB      68\n",
      "6GB      59\n",
      "8GB      42\n",
      "4        35\n",
      "8        34\n",
      "6        28\n",
      "4 GB     25\n",
      "3GB      22\n",
      "6 GB     20\n",
      "8 GB     19\n",
      "12       11\n",
      "12GB      9\n",
      "2GB       9\n",
      "3         9\n",
      "3 GB      7\n",
      "12 GB     5\n",
      "5GB       2\n",
      "2 GB      1\n",
      "16        1\n",
      "2         1\n",
      "Name: RAM, dtype: int64\n"
     ]
    }
   ],
   "source": [
    "ram_frequency = phone['RAM'].value_counts()\n",
    "print(ram_frequency)"
   ]
  },
  {
   "cell_type": "code",
   "execution_count": 14,
   "id": "b1a25f17",
   "metadata": {},
   "outputs": [],
   "source": [
    "phone['RAM'] = phone['RAM'].astype(str).str.replace('GB','').str.replace(' GB','').astype(int)"
   ]
  },
  {
   "cell_type": "code",
   "execution_count": 15,
   "id": "c5f63356",
   "metadata": {},
   "outputs": [
    {
     "data": {
      "text/plain": [
       "array(['6.1', '6.8', '6.7', '6.67', '6.4', '6.55', '6.78', '6.43', '6.5',\n",
       "       '6.62', '5.4', '6.2', '6.51', '6.6', '4.7', '6.58', '6.52', '6.44',\n",
       "       '6.53', '6.56', '6.8 + 3.9', '4.5', '6.39', '5.9', '5.5', '6.81',\n",
       "       '5.99', '6.82', '6.3', '6.22', '6', '6.35', '6.9', '6.76', '6.49',\n",
       "       '6.72', '5.7', '6.47', '7.6 (unfolded)', '6.15', '6.57'],\n",
       "      dtype=object)"
      ]
     },
     "execution_count": 15,
     "metadata": {},
     "output_type": "execute_result"
    }
   ],
   "source": [
    "phone['Screen'].unique()"
   ]
  },
  {
   "cell_type": "code",
   "execution_count": 16,
   "id": "aef77a1e",
   "metadata": {},
   "outputs": [],
   "source": [
    "#remove two outliares\n",
    "phone = phone[phone['Screen'] != '7.6 (unfolded)']\n",
    "phone = phone[phone['Screen'] != '6.8 + 3.9']"
   ]
  },
  {
   "cell_type": "code",
   "execution_count": 17,
   "id": "85d9f194",
   "metadata": {},
   "outputs": [],
   "source": [
    "phone['Screen'] = phone['Screen'].astype(float)"
   ]
  },
  {
   "cell_type": "code",
   "execution_count": 18,
   "id": "cb491152",
   "metadata": {},
   "outputs": [
    {
     "name": "stdout",
     "output_type": "stream",
     "text": [
      "13MP + 2MP + 2MP          29\n",
      "48MP + 8MP + 2MP + 2MP    16\n",
      "48+8+2+2                  13\n",
      "64MP + 8MP + 2MP          11\n",
      "13MP + 2MP                11\n",
      "                          ..\n",
      "48MP + 8MP + 5MP + 5MP     1\n",
      "50MP + 5MP                 1\n",
      "50 + 8 + 2                 1\n",
      "48 + 8 + 5                 1\n",
      "48+13+8+2                  1\n",
      "Name: Camera, Length: 142, dtype: int64\n"
     ]
    }
   ],
   "source": [
    "cam_freq = phone['Camera'].value_counts()\n",
    "print(cam_freq)"
   ]
  },
  {
   "cell_type": "code",
   "execution_count": 19,
   "id": "f9bb954f",
   "metadata": {},
   "outputs": [
    {
     "data": {
      "text/plain": [
       "array(['12 + 12 + 12', '108 + 10 + 10 + 12', '48 + 50 + 8 + 2',\n",
       "       '64 + 8 + 5 + 2', '50 + 12.2', '12 + 12', '48 + 8 + 2 + 2',\n",
       "       '50 + 13 + 16 + 2', '50 + 48 + 12 + 8', '64 + 8 + 2',\n",
       "       '64 + 12 + 5 + 5', '50 + 50 + 13 + 3', '64 + 8 + 5',\n",
       "       '64 + 12 + 12', '50 + 2 + 2', '48 + 2 + 2', '50 + 8 + 2 + 2',\n",
       "       '48 + 5', '48 + 50 + 2', '108 + 8 + 5 + 2', '13 + 2 + 2', '13 + 2',\n",
       "       '12', '48 + 5 + 2', '50 + 8 + 2', '64 + 8 + 2 + 2', '48 + 8 + 5',\n",
       "       '64 + 8', '48 + 5 + 2 + 2', '50 + 2', '64 + 12 + 8 + 5', '64 + 2',\n",
       "       '48 + 13 + 13', '12MP + 12MP', '64MP + 12MP + 12MP',\n",
       "       '50MP + 8MP + 2MP', '50MP + 12MP', '48MP + 8MP + 2MP + 2MP',\n",
       "       '64MP + 8MP + 2MP', '50MP + 48MP + 12MP + 8MP',\n",
       "       '50MP + 16MP + 13MP + 2MP', '108MP + 16MP + 8MP', '48MP + 13MP',\n",
       "       '12MP + 12MP + 12MP', '64MP + 12MP + 8MP', '13MP + 5MP',\n",
       "       '64MP + 12MP + 8MP + 5MP', '108MP + 8MP + 5MP + 2MP',\n",
       "       '48MP + 50MP + 2MP', '50MP + 2MP + 2MP', '108MP + 8MP + 2MP',\n",
       "       '48MP + 5MP + 2MP', '64MP + 5MP + 2MP + 2MP', '64MP + 12MP',\n",
       "       '48MP + 50MP + 8MP', '50MP + 48MP + 48MP', '13MP + 2MP + 2MP',\n",
       "       '13MP + 2MP', '8MP + 2MP', '12MP + 12MP + 8MP', '48MP + 2MP + 2MP',\n",
       "       '64MP + 13MP + 5MP', '48MP + 8MP + 5MP', '12MP + 13MP',\n",
       "       '50MP + 13MP + 16MP + 2MP', '50MP + 8MP + 2MP + 2MP', '50MP + 2MP',\n",
       "       '48MP + 5MP', '64MP + 8MP + 2MP + 2MP', '64MP + 8MP + 5MP',\n",
       "       '64MP + 8MP + 5MP + 5MP', '64MP + 12MP + 5MP + 5MP',\n",
       "       '48MP + 8MP + 2MP', '48MP + 2MP', '108MP + 12MP + 10MP + 10MP',\n",
       "       '64MP + 2MP', '64MP + 8MP', '64MP + 8MP + 5MP + 2MP', '50MP + 5MP',\n",
       "       '48MP + 8MP + 5MP + 5MP', '108MP + 8MP + 2MP + 2MP',\n",
       "       '48MP + 5MP + 2MP + 2MP', '13MP', '48MP + 8MP + 5MP + 2MP',\n",
       "       '13MP + 5MP + 2MP', '8MP', '13MP + 5MP + 2MP + 2MP',\n",
       "       '13MP + 8MP + 5MP + 2MP', '13MP + 8MP + 2MP + 2MP',\n",
       "       '12MP + 2MP + 2MP', '13MP + 8MP + 2MP', '25MP + 8MP + 5MP',\n",
       "       '108+12+12', '48+8+2+2', '12.2+16', '50+20+12+3D', '64+8+2+2',\n",
       "       '64+12+5+5', '64+12+2+2', '12+12+12', '108+13+5', '48+2+2',\n",
       "       '48+16+5+2', '13+8+5+2', '13+2+2', '48+5+2', '12+7',\n",
       "       '108+10+10+12', '108+8+5+2', '50+16+13+2', '50+12+40+3D',\n",
       "       '48+50+8+2', '48+8+2', '48+5+2+2', '12+12', '50+8+2+2',\n",
       "       '50+8+16+2', '48+12+5', '48+48+8+5', '48+8+5', '40+40+8+3D',\n",
       "       '48+12+13', '13+5+2', '48+8+5+2', '40+20+8+ToF', '12+12+8',\n",
       "       '48+16+8', '16+8+5', '16+8+8+2', '12+64+12', '64+8+5',\n",
       "       '50+40+12+3D', '108+48+12+3D', '48+50+2', '64+2+2', '48+13+12+2',\n",
       "       '13+2', '48+8+5+5', '64+12+12', '108+48+12+0.3', '48+16+2',\n",
       "       '48+13+8+2'], dtype=object)"
      ]
     },
     "execution_count": 19,
     "metadata": {},
     "output_type": "execute_result"
    }
   ],
   "source": [
    "phone['Camera'].unique()\n"
   ]
  },
  {
   "cell_type": "code",
   "execution_count": 20,
   "id": "bb9262f3",
   "metadata": {},
   "outputs": [],
   "source": [
    "phone['Camera'] = phone['Camera'].astype(str).str.replace(' ','')"
   ]
  },
  {
   "cell_type": "code",
   "execution_count": 21,
   "id": "c9fbf6aa",
   "metadata": {},
   "outputs": [],
   "source": [
    "phone['Camera'] = phone['Camera'].str.replace('MP','').str.replace('D','').str.replace('ToF','0')"
   ]
  },
  {
   "cell_type": "code",
   "execution_count": 22,
   "id": "d71df556",
   "metadata": {},
   "outputs": [
    {
     "data": {
      "text/plain": [
       "array(['12+12+12', '108+10+10+12', '48+50+8+2', '64+8+5+2', '50+12.2',\n",
       "       '12+12', '48+8+2+2', '50+13+16+2', '50+48+12+8', '64+8+2',\n",
       "       '64+12+5+5', '50+50+13+3', '64+8+5', '64+12+12', '50+2+2',\n",
       "       '48+2+2', '50+8+2+2', '48+5', '48+50+2', '108+8+5+2', '13+2+2',\n",
       "       '13+2', '12', '48+5+2', '50+8+2', '64+8+2+2', '48+8+5', '64+8',\n",
       "       '48+5+2+2', '50+2', '64+12+8+5', '64+2', '48+13+13', '50+12',\n",
       "       '50+16+13+2', '108+16+8', '48+13', '64+12+8', '13+5', '108+8+2',\n",
       "       '64+5+2+2', '64+12', '48+50+8', '50+48+48', '8+2', '12+12+8',\n",
       "       '64+13+5', '12+13', '64+8+5+5', '48+8+2', '48+2', '108+12+10+10',\n",
       "       '50+5', '48+8+5+5', '108+8+2+2', '13', '48+8+5+2', '13+5+2', '8',\n",
       "       '13+5+2+2', '13+8+5+2', '13+8+2+2', '12+2+2', '13+8+2', '25+8+5',\n",
       "       '108+12+12', '12.2+16', '50+20+12+3', '64+12+2+2', '108+13+5',\n",
       "       '48+16+5+2', '12+7', '50+12+40+3', '50+8+16+2', '48+12+5',\n",
       "       '48+48+8+5', '40+40+8+3', '48+12+13', '40+20+8+0', '48+16+8',\n",
       "       '16+8+5', '16+8+8+2', '12+64+12', '50+40+12+3', '108+48+12+3',\n",
       "       '64+2+2', '48+13+12+2', '108+48+12+0.3', '48+16+2', '48+13+8+2'],\n",
       "      dtype=object)"
      ]
     },
     "execution_count": 22,
     "metadata": {},
     "output_type": "execute_result"
    }
   ],
   "source": [
    "phone['Camera'].unique()"
   ]
  },
  {
   "cell_type": "code",
   "execution_count": 23,
   "id": "caabebbd",
   "metadata": {},
   "outputs": [
    {
     "data": {
      "text/plain": [
       "13+2+2       41\n",
       "48+8+2+2     36\n",
       "48+2+2       18\n",
       "64+12+5+5    18\n",
       "64+8+2+2     17\n",
       "             ..\n",
       "13+8+2+2      1\n",
       "108+16+8      1\n",
       "13+8+2        1\n",
       "25+8+5        1\n",
       "48+13+8+2     1\n",
       "Name: Camera, Length: 90, dtype: int64"
      ]
     },
     "execution_count": 23,
     "metadata": {},
     "output_type": "execute_result"
    }
   ],
   "source": [
    "phone['Camera'].value_counts()"
   ]
  },
  {
   "cell_type": "code",
   "execution_count": 24,
   "id": "332e24f4",
   "metadata": {},
   "outputs": [],
   "source": [
    "#function to get entries sum\n",
    "def sum_camera_mps(entry):\n",
    "    numbers = entry.split('+')\n",
    "    return np.sum([float(num) for num in numbers])\n",
    "\n",
    "# Apply the function to the 'Camera (MP)' column and create a new column 'Sum_Camera_MPs'\n",
    "phone['CamPixels'] = phone['Camera'].apply(sum_camera_mps)"
   ]
  },
  {
   "cell_type": "code",
   "execution_count": 25,
   "id": "19a36d42",
   "metadata": {},
   "outputs": [
    {
     "data": {
      "text/html": [
       "<div>\n",
       "<style scoped>\n",
       "    .dataframe tbody tr th:only-of-type {\n",
       "        vertical-align: middle;\n",
       "    }\n",
       "\n",
       "    .dataframe tbody tr th {\n",
       "        vertical-align: top;\n",
       "    }\n",
       "\n",
       "    .dataframe thead th {\n",
       "        text-align: right;\n",
       "    }\n",
       "</style>\n",
       "<table border=\"1\" class=\"dataframe\">\n",
       "  <thead>\n",
       "    <tr style=\"text-align: right;\">\n",
       "      <th></th>\n",
       "      <th>Brand</th>\n",
       "      <th>Storage</th>\n",
       "      <th>RAM</th>\n",
       "      <th>Screen</th>\n",
       "      <th>Camera</th>\n",
       "      <th>Battery</th>\n",
       "      <th>Price</th>\n",
       "      <th>CamPixels</th>\n",
       "    </tr>\n",
       "  </thead>\n",
       "  <tbody>\n",
       "    <tr>\n",
       "      <th>0</th>\n",
       "      <td>Apple</td>\n",
       "      <td>128</td>\n",
       "      <td>6</td>\n",
       "      <td>6.10</td>\n",
       "      <td>12+12+12</td>\n",
       "      <td>3095</td>\n",
       "      <td>999</td>\n",
       "      <td>36.0</td>\n",
       "    </tr>\n",
       "    <tr>\n",
       "      <th>1</th>\n",
       "      <td>Samsung</td>\n",
       "      <td>256</td>\n",
       "      <td>12</td>\n",
       "      <td>6.80</td>\n",
       "      <td>108+10+10+12</td>\n",
       "      <td>5000</td>\n",
       "      <td>1199</td>\n",
       "      <td>140.0</td>\n",
       "    </tr>\n",
       "    <tr>\n",
       "      <th>2</th>\n",
       "      <td>OnePlus</td>\n",
       "      <td>128</td>\n",
       "      <td>8</td>\n",
       "      <td>6.70</td>\n",
       "      <td>48+50+8+2</td>\n",
       "      <td>4500</td>\n",
       "      <td>899</td>\n",
       "      <td>108.0</td>\n",
       "    </tr>\n",
       "    <tr>\n",
       "      <th>3</th>\n",
       "      <td>Xiaomi</td>\n",
       "      <td>128</td>\n",
       "      <td>6</td>\n",
       "      <td>6.67</td>\n",
       "      <td>64+8+5+2</td>\n",
       "      <td>5020</td>\n",
       "      <td>279</td>\n",
       "      <td>79.0</td>\n",
       "    </tr>\n",
       "    <tr>\n",
       "      <th>4</th>\n",
       "      <td>Google</td>\n",
       "      <td>128</td>\n",
       "      <td>8</td>\n",
       "      <td>6.40</td>\n",
       "      <td>50+12.2</td>\n",
       "      <td>4614</td>\n",
       "      <td>799</td>\n",
       "      <td>62.2</td>\n",
       "    </tr>\n",
       "  </tbody>\n",
       "</table>\n",
       "</div>"
      ],
      "text/plain": [
       "     Brand  Storage  RAM  Screen        Camera  Battery Price  CamPixels\n",
       "0    Apple      128    6    6.10      12+12+12     3095   999       36.0\n",
       "1  Samsung      256   12    6.80  108+10+10+12     5000  1199      140.0\n",
       "2  OnePlus      128    8    6.70     48+50+8+2     4500   899      108.0\n",
       "3   Xiaomi      128    6    6.67      64+8+5+2     5020   279       79.0\n",
       "4   Google      128    8    6.40       50+12.2     4614   799       62.2"
      ]
     },
     "execution_count": 25,
     "metadata": {},
     "output_type": "execute_result"
    }
   ],
   "source": [
    "phone.head()"
   ]
  },
  {
   "cell_type": "code",
   "execution_count": 26,
   "id": "a4aae0c2",
   "metadata": {},
   "outputs": [],
   "source": [
    "phone.drop('Camera',axis=1, inplace=True)"
   ]
  },
  {
   "cell_type": "code",
   "execution_count": 27,
   "id": "0e5ee793",
   "metadata": {},
   "outputs": [
    {
     "data": {
      "text/html": [
       "<div>\n",
       "<style scoped>\n",
       "    .dataframe tbody tr th:only-of-type {\n",
       "        vertical-align: middle;\n",
       "    }\n",
       "\n",
       "    .dataframe tbody tr th {\n",
       "        vertical-align: top;\n",
       "    }\n",
       "\n",
       "    .dataframe thead th {\n",
       "        text-align: right;\n",
       "    }\n",
       "</style>\n",
       "<table border=\"1\" class=\"dataframe\">\n",
       "  <thead>\n",
       "    <tr style=\"text-align: right;\">\n",
       "      <th></th>\n",
       "      <th>Brand</th>\n",
       "      <th>Storage</th>\n",
       "      <th>RAM</th>\n",
       "      <th>Screen</th>\n",
       "      <th>Battery</th>\n",
       "      <th>Price</th>\n",
       "      <th>CamPixels</th>\n",
       "    </tr>\n",
       "  </thead>\n",
       "  <tbody>\n",
       "    <tr>\n",
       "      <th>0</th>\n",
       "      <td>Apple</td>\n",
       "      <td>128</td>\n",
       "      <td>6</td>\n",
       "      <td>6.10</td>\n",
       "      <td>3095</td>\n",
       "      <td>999</td>\n",
       "      <td>36.0</td>\n",
       "    </tr>\n",
       "    <tr>\n",
       "      <th>1</th>\n",
       "      <td>Samsung</td>\n",
       "      <td>256</td>\n",
       "      <td>12</td>\n",
       "      <td>6.80</td>\n",
       "      <td>5000</td>\n",
       "      <td>1199</td>\n",
       "      <td>140.0</td>\n",
       "    </tr>\n",
       "    <tr>\n",
       "      <th>2</th>\n",
       "      <td>OnePlus</td>\n",
       "      <td>128</td>\n",
       "      <td>8</td>\n",
       "      <td>6.70</td>\n",
       "      <td>4500</td>\n",
       "      <td>899</td>\n",
       "      <td>108.0</td>\n",
       "    </tr>\n",
       "    <tr>\n",
       "      <th>3</th>\n",
       "      <td>Xiaomi</td>\n",
       "      <td>128</td>\n",
       "      <td>6</td>\n",
       "      <td>6.67</td>\n",
       "      <td>5020</td>\n",
       "      <td>279</td>\n",
       "      <td>79.0</td>\n",
       "    </tr>\n",
       "    <tr>\n",
       "      <th>4</th>\n",
       "      <td>Google</td>\n",
       "      <td>128</td>\n",
       "      <td>8</td>\n",
       "      <td>6.40</td>\n",
       "      <td>4614</td>\n",
       "      <td>799</td>\n",
       "      <td>62.2</td>\n",
       "    </tr>\n",
       "  </tbody>\n",
       "</table>\n",
       "</div>"
      ],
      "text/plain": [
       "     Brand  Storage  RAM  Screen  Battery Price  CamPixels\n",
       "0    Apple      128    6    6.10     3095   999       36.0\n",
       "1  Samsung      256   12    6.80     5000  1199      140.0\n",
       "2  OnePlus      128    8    6.70     4500   899      108.0\n",
       "3   Xiaomi      128    6    6.67     5020   279       79.0\n",
       "4   Google      128    8    6.40     4614   799       62.2"
      ]
     },
     "execution_count": 27,
     "metadata": {},
     "output_type": "execute_result"
    }
   ],
   "source": [
    "phone.head()"
   ]
  },
  {
   "cell_type": "code",
   "execution_count": 28,
   "id": "ce2cd7dc",
   "metadata": {},
   "outputs": [
    {
     "data": {
      "text/plain": [
       "array(['999', '1199', '899', '279', '799', '249', '699', '329', '449',\n",
       "       '199', '299', '379', '179', '729', '599', '139', '189', '399',\n",
       "       '259', '159', '229', '499', '129', '529', '369', '1099', '169',\n",
       "       '99', '459', '239', '1299', '429', '659', '269', '359', '$799 ',\n",
       "       '$399 ', '$699 ', '$329 ', '$999 ', '$549 ', '$1,299 ', '$899 ',\n",
       "       '$449 ', '$319 ', '$269 ', '$349 ', '$279 ', '$249 ', '$299 ',\n",
       "       '$969 ', '$1,199 ', '$149 ', '$139 ', '$99 ', '$199 ', '$169 ',\n",
       "       '$499 ', '$179 ', '$219 ', '$229 ', '$239 ', '$109 ', '$189 ',\n",
       "       '$389 ', '$309 ', '$369 ', '$129 ', '$849 ', '$469 ', '$209 ',\n",
       "       '$119 ', '$339 ', '$429 ', '$159 ', '$379 ', '$289 ', '130', '749',\n",
       "       '149', '969', '649', '349', '419', '1399', '119', '319', '1049'],\n",
       "      dtype=object)"
      ]
     },
     "execution_count": 28,
     "metadata": {},
     "output_type": "execute_result"
    }
   ],
   "source": [
    "phone['Price'].unique()"
   ]
  },
  {
   "cell_type": "code",
   "execution_count": 29,
   "id": "afa52fe4",
   "metadata": {},
   "outputs": [
    {
     "name": "stderr",
     "output_type": "stream",
     "text": [
      "C:\\Users\\Hp\\AppData\\Local\\Temp\\ipykernel_11300\\3853147976.py:1: FutureWarning: The default value of regex will change from True to False in a future version. In addition, single character regular expressions will *not* be treated as literal strings when regex=True.\n",
      "  phone['Price']= phone['Price'].astype(str).str.replace('$','').str.replace(',','').astype(int)\n"
     ]
    }
   ],
   "source": [
    "phone['Price']= phone['Price'].astype(str).str.replace('$','').str.replace(',','').astype(int)"
   ]
  },
  {
   "cell_type": "code",
   "execution_count": 30,
   "id": "7ab90643",
   "metadata": {},
   "outputs": [
    {
     "data": {
      "text/plain": [
       "array([ 36. , 140. , 108. ,  79. ,  62.2,  24. ,  60. ,  81. , 118. ,\n",
       "        74. ,  86. , 116. ,  77. ,  88. ,  54. ,  52. ,  62. ,  53. ,\n",
       "       100. , 123. ,  17. ,  15. ,  12. ,  55. ,  76. ,  61. ,  72. ,\n",
       "        57. ,  89. ,  66. , 132. ,  84. ,  18. ,  73. , 106. , 146. ,\n",
       "        10. ,  32. ,  82. ,  25. ,  58. ,  50. , 120. ,  13. ,  63. ,\n",
       "        20. ,   8. ,  22. ,  28. ,  16. ,  23. ,  38. ,  28.2,  85. ,\n",
       "        80. , 126. ,  71. ,  19. , 105. ,  65. , 109. ,  91. ,  68. ,\n",
       "        29. ,  34. , 171. ,  75. , 168.3])"
      ]
     },
     "execution_count": 30,
     "metadata": {},
     "output_type": "execute_result"
    }
   ],
   "source": [
    "phone['CamPixels'].unique()"
   ]
  },
  {
   "cell_type": "code",
   "execution_count": 31,
   "id": "5778930a",
   "metadata": {},
   "outputs": [
    {
     "data": {
      "text/plain": [
       "Brand         object\n",
       "Storage        int32\n",
       "RAM            int32\n",
       "Screen       float64\n",
       "Battery        int64\n",
       "Price          int32\n",
       "CamPixels    float64\n",
       "dtype: object"
      ]
     },
     "execution_count": 31,
     "metadata": {},
     "output_type": "execute_result"
    }
   ],
   "source": [
    "phone.dtypes"
   ]
  },
  {
   "cell_type": "markdown",
   "id": "c5f312de",
   "metadata": {},
   "source": [
    "# Encoding"
   ]
  },
  {
   "cell_type": "code",
   "execution_count": 32,
   "id": "f6824c75",
   "metadata": {},
   "outputs": [],
   "source": [
    "from sklearn.preprocessing import LabelEncoder\n",
    "from sklearn.model_selection import train_test_split\n",
    "from sklearn.linear_model import LinearRegression\n",
    "from sklearn.linear_model import Ridge\n",
    "from sklearn.ensemble import RandomForestRegressor\n"
   ]
  },
  {
   "cell_type": "code",
   "execution_count": 33,
   "id": "7bd2cc17",
   "metadata": {},
   "outputs": [],
   "source": [
    "brand_encoder = LabelEncoder()"
   ]
  },
  {
   "cell_type": "code",
   "execution_count": 34,
   "id": "33cd4fa2",
   "metadata": {},
   "outputs": [
    {
     "data": {
      "text/plain": [
       "Samsung       78\n",
       "Xiaomi        67\n",
       "Oppo          56\n",
       "Realme        43\n",
       "Vivo          35\n",
       "Apple         30\n",
       "Nokia         28\n",
       "Motorola      23\n",
       "OnePlus       15\n",
       "Huawei        12\n",
       "Google         7\n",
       "Asus           4\n",
       "Blackberry     3\n",
       "LG             2\n",
       "Sony           1\n",
       "CAT            1\n",
       "Name: Brand, dtype: int64"
      ]
     },
     "execution_count": 34,
     "metadata": {},
     "output_type": "execute_result"
    }
   ],
   "source": [
    "phone['Brand'].value_counts()"
   ]
  },
  {
   "cell_type": "code",
   "execution_count": 35,
   "id": "4c8a5536",
   "metadata": {},
   "outputs": [],
   "source": [
    "#removing brands with low frequency to minimize least square\n",
    "phone=phone[phone['Brand'] !='Google']\n",
    "phone=phone[phone['Brand'] !='Asus']\n",
    "phone=phone[phone['Brand'] !='Blackberry']\n",
    "phone=phone[phone['Brand'] !='LG']\n",
    "phone=phone[phone['Brand'] !='Sony']\n",
    "phone=phone[phone['Brand'] !='CAT']"
   ]
  },
  {
   "cell_type": "code",
   "execution_count": 36,
   "id": "985e89d2",
   "metadata": {},
   "outputs": [
    {
     "data": {
      "text/plain": [
       "Samsung     78\n",
       "Xiaomi      67\n",
       "Oppo        56\n",
       "Realme      43\n",
       "Vivo        35\n",
       "Apple       30\n",
       "Nokia       28\n",
       "Motorola    23\n",
       "OnePlus     15\n",
       "Huawei      12\n",
       "Name: Brand, dtype: int64"
      ]
     },
     "execution_count": 36,
     "metadata": {},
     "output_type": "execute_result"
    }
   ],
   "source": [
    "phone['Brand'].value_counts()"
   ]
  },
  {
   "cell_type": "code",
   "execution_count": 37,
   "id": "eca964c9",
   "metadata": {},
   "outputs": [
    {
     "name": "stdout",
     "output_type": "stream",
     "text": [
      "<class 'pandas.core.frame.DataFrame'>\n",
      "Int64Index: 387 entries, 0 to 406\n",
      "Data columns (total 7 columns):\n",
      " #   Column     Non-Null Count  Dtype  \n",
      "---  ------     --------------  -----  \n",
      " 0   Brand      387 non-null    object \n",
      " 1   Storage    387 non-null    int32  \n",
      " 2   RAM        387 non-null    int32  \n",
      " 3   Screen     387 non-null    float64\n",
      " 4   Battery    387 non-null    int64  \n",
      " 5   Price      387 non-null    int32  \n",
      " 6   CamPixels  387 non-null    float64\n",
      "dtypes: float64(2), int32(3), int64(1), object(1)\n",
      "memory usage: 19.7+ KB\n"
     ]
    }
   ],
   "source": [
    "phone.info()"
   ]
  },
  {
   "cell_type": "code",
   "execution_count": 38,
   "id": "bdbbd9de",
   "metadata": {},
   "outputs": [
    {
     "data": {
      "text/plain": [
       "(387, 7)"
      ]
     },
     "execution_count": 38,
     "metadata": {},
     "output_type": "execute_result"
    }
   ],
   "source": [
    "phone.shape"
   ]
  },
  {
   "cell_type": "code",
   "execution_count": 39,
   "id": "53ae1ff7",
   "metadata": {},
   "outputs": [],
   "source": [
    "phone['codeBrand'] = brand_encoder.fit_transform(phone['Brand'])"
   ]
  },
  {
   "cell_type": "code",
   "execution_count": 40,
   "id": "d55ab87d",
   "metadata": {},
   "outputs": [
    {
     "data": {
      "text/html": [
       "<div>\n",
       "<style scoped>\n",
       "    .dataframe tbody tr th:only-of-type {\n",
       "        vertical-align: middle;\n",
       "    }\n",
       "\n",
       "    .dataframe tbody tr th {\n",
       "        vertical-align: top;\n",
       "    }\n",
       "\n",
       "    .dataframe thead th {\n",
       "        text-align: right;\n",
       "    }\n",
       "</style>\n",
       "<table border=\"1\" class=\"dataframe\">\n",
       "  <thead>\n",
       "    <tr style=\"text-align: right;\">\n",
       "      <th></th>\n",
       "      <th>Brand</th>\n",
       "      <th>Storage</th>\n",
       "      <th>RAM</th>\n",
       "      <th>Screen</th>\n",
       "      <th>Battery</th>\n",
       "      <th>Price</th>\n",
       "      <th>CamPixels</th>\n",
       "      <th>codeBrand</th>\n",
       "    </tr>\n",
       "  </thead>\n",
       "  <tbody>\n",
       "    <tr>\n",
       "      <th>0</th>\n",
       "      <td>Apple</td>\n",
       "      <td>128</td>\n",
       "      <td>6</td>\n",
       "      <td>6.10</td>\n",
       "      <td>3095</td>\n",
       "      <td>999</td>\n",
       "      <td>36.0</td>\n",
       "      <td>0</td>\n",
       "    </tr>\n",
       "    <tr>\n",
       "      <th>1</th>\n",
       "      <td>Samsung</td>\n",
       "      <td>256</td>\n",
       "      <td>12</td>\n",
       "      <td>6.80</td>\n",
       "      <td>5000</td>\n",
       "      <td>1199</td>\n",
       "      <td>140.0</td>\n",
       "      <td>7</td>\n",
       "    </tr>\n",
       "    <tr>\n",
       "      <th>2</th>\n",
       "      <td>OnePlus</td>\n",
       "      <td>128</td>\n",
       "      <td>8</td>\n",
       "      <td>6.70</td>\n",
       "      <td>4500</td>\n",
       "      <td>899</td>\n",
       "      <td>108.0</td>\n",
       "      <td>4</td>\n",
       "    </tr>\n",
       "    <tr>\n",
       "      <th>3</th>\n",
       "      <td>Xiaomi</td>\n",
       "      <td>128</td>\n",
       "      <td>6</td>\n",
       "      <td>6.67</td>\n",
       "      <td>5020</td>\n",
       "      <td>279</td>\n",
       "      <td>79.0</td>\n",
       "      <td>9</td>\n",
       "    </tr>\n",
       "    <tr>\n",
       "      <th>5</th>\n",
       "      <td>Apple</td>\n",
       "      <td>128</td>\n",
       "      <td>4</td>\n",
       "      <td>6.10</td>\n",
       "      <td>2815</td>\n",
       "      <td>799</td>\n",
       "      <td>24.0</td>\n",
       "      <td>0</td>\n",
       "    </tr>\n",
       "  </tbody>\n",
       "</table>\n",
       "</div>"
      ],
      "text/plain": [
       "     Brand  Storage  RAM  Screen  Battery  Price  CamPixels  codeBrand\n",
       "0    Apple      128    6    6.10     3095    999       36.0          0\n",
       "1  Samsung      256   12    6.80     5000   1199      140.0          7\n",
       "2  OnePlus      128    8    6.70     4500    899      108.0          4\n",
       "3   Xiaomi      128    6    6.67     5020    279       79.0          9\n",
       "5    Apple      128    4    6.10     2815    799       24.0          0"
      ]
     },
     "execution_count": 40,
     "metadata": {},
     "output_type": "execute_result"
    }
   ],
   "source": [
    "phone.head()"
   ]
  },
  {
   "cell_type": "code",
   "execution_count": 41,
   "id": "4fedfbb2",
   "metadata": {},
   "outputs": [],
   "source": [
    "phone.drop('Brand',axis=1, inplace=True)"
   ]
  },
  {
   "cell_type": "code",
   "execution_count": 42,
   "id": "cae5e3f0",
   "metadata": {},
   "outputs": [
    {
     "name": "stdout",
     "output_type": "stream",
     "text": [
      "<class 'pandas.core.frame.DataFrame'>\n",
      "Int64Index: 387 entries, 0 to 406\n",
      "Data columns (total 7 columns):\n",
      " #   Column     Non-Null Count  Dtype  \n",
      "---  ------     --------------  -----  \n",
      " 0   Storage    387 non-null    int32  \n",
      " 1   RAM        387 non-null    int32  \n",
      " 2   Screen     387 non-null    float64\n",
      " 3   Battery    387 non-null    int64  \n",
      " 4   Price      387 non-null    int32  \n",
      " 5   CamPixels  387 non-null    float64\n",
      " 6   codeBrand  387 non-null    int32  \n",
      "dtypes: float64(2), int32(4), int64(1)\n",
      "memory usage: 18.1 KB\n"
     ]
    }
   ],
   "source": [
    "phone.info()"
   ]
  },
  {
   "cell_type": "markdown",
   "id": "97cbc1e1",
   "metadata": {},
   "source": [
    "# Data Spliting"
   ]
  },
  {
   "cell_type": "code",
   "execution_count": 43,
   "id": "afb36243",
   "metadata": {},
   "outputs": [],
   "source": [
    "X=phone.drop('Price',axis=1)\n",
    "Y=phone['Price']"
   ]
  },
  {
   "cell_type": "code",
   "execution_count": 44,
   "id": "a9da329c",
   "metadata": {},
   "outputs": [],
   "source": [
    "X_train, X_test, Y_train, Y_test =train_test_split(X,Y, test_size=0.2)"
   ]
  },
  {
   "cell_type": "markdown",
   "id": "2104acbe",
   "metadata": {},
   "source": [
    "# Fit Linear Regression Model"
   ]
  },
  {
   "cell_type": "code",
   "execution_count": 45,
   "id": "65f6d594",
   "metadata": {},
   "outputs": [],
   "source": [
    "linear = LinearRegression()"
   ]
  },
  {
   "cell_type": "code",
   "execution_count": 46,
   "id": "6d637b0d",
   "metadata": {},
   "outputs": [
    {
     "data": {
      "text/html": [
       "<style>#sk-container-id-1 {color: black;background-color: white;}#sk-container-id-1 pre{padding: 0;}#sk-container-id-1 div.sk-toggleable {background-color: white;}#sk-container-id-1 label.sk-toggleable__label {cursor: pointer;display: block;width: 100%;margin-bottom: 0;padding: 0.3em;box-sizing: border-box;text-align: center;}#sk-container-id-1 label.sk-toggleable__label-arrow:before {content: \"▸\";float: left;margin-right: 0.25em;color: #696969;}#sk-container-id-1 label.sk-toggleable__label-arrow:hover:before {color: black;}#sk-container-id-1 div.sk-estimator:hover label.sk-toggleable__label-arrow:before {color: black;}#sk-container-id-1 div.sk-toggleable__content {max-height: 0;max-width: 0;overflow: hidden;text-align: left;background-color: #f0f8ff;}#sk-container-id-1 div.sk-toggleable__content pre {margin: 0.2em;color: black;border-radius: 0.25em;background-color: #f0f8ff;}#sk-container-id-1 input.sk-toggleable__control:checked~div.sk-toggleable__content {max-height: 200px;max-width: 100%;overflow: auto;}#sk-container-id-1 input.sk-toggleable__control:checked~label.sk-toggleable__label-arrow:before {content: \"▾\";}#sk-container-id-1 div.sk-estimator input.sk-toggleable__control:checked~label.sk-toggleable__label {background-color: #d4ebff;}#sk-container-id-1 div.sk-label input.sk-toggleable__control:checked~label.sk-toggleable__label {background-color: #d4ebff;}#sk-container-id-1 input.sk-hidden--visually {border: 0;clip: rect(1px 1px 1px 1px);clip: rect(1px, 1px, 1px, 1px);height: 1px;margin: -1px;overflow: hidden;padding: 0;position: absolute;width: 1px;}#sk-container-id-1 div.sk-estimator {font-family: monospace;background-color: #f0f8ff;border: 1px dotted black;border-radius: 0.25em;box-sizing: border-box;margin-bottom: 0.5em;}#sk-container-id-1 div.sk-estimator:hover {background-color: #d4ebff;}#sk-container-id-1 div.sk-parallel-item::after {content: \"\";width: 100%;border-bottom: 1px solid gray;flex-grow: 1;}#sk-container-id-1 div.sk-label:hover label.sk-toggleable__label {background-color: #d4ebff;}#sk-container-id-1 div.sk-serial::before {content: \"\";position: absolute;border-left: 1px solid gray;box-sizing: border-box;top: 0;bottom: 0;left: 50%;z-index: 0;}#sk-container-id-1 div.sk-serial {display: flex;flex-direction: column;align-items: center;background-color: white;padding-right: 0.2em;padding-left: 0.2em;position: relative;}#sk-container-id-1 div.sk-item {position: relative;z-index: 1;}#sk-container-id-1 div.sk-parallel {display: flex;align-items: stretch;justify-content: center;background-color: white;position: relative;}#sk-container-id-1 div.sk-item::before, #sk-container-id-1 div.sk-parallel-item::before {content: \"\";position: absolute;border-left: 1px solid gray;box-sizing: border-box;top: 0;bottom: 0;left: 50%;z-index: -1;}#sk-container-id-1 div.sk-parallel-item {display: flex;flex-direction: column;z-index: 1;position: relative;background-color: white;}#sk-container-id-1 div.sk-parallel-item:first-child::after {align-self: flex-end;width: 50%;}#sk-container-id-1 div.sk-parallel-item:last-child::after {align-self: flex-start;width: 50%;}#sk-container-id-1 div.sk-parallel-item:only-child::after {width: 0;}#sk-container-id-1 div.sk-dashed-wrapped {border: 1px dashed gray;margin: 0 0.4em 0.5em 0.4em;box-sizing: border-box;padding-bottom: 0.4em;background-color: white;}#sk-container-id-1 div.sk-label label {font-family: monospace;font-weight: bold;display: inline-block;line-height: 1.2em;}#sk-container-id-1 div.sk-label-container {text-align: center;}#sk-container-id-1 div.sk-container {/* jupyter's `normalize.less` sets `[hidden] { display: none; }` but bootstrap.min.css set `[hidden] { display: none !important; }` so we also need the `!important` here to be able to override the default hidden behavior on the sphinx rendered scikit-learn.org. See: https://github.com/scikit-learn/scikit-learn/issues/21755 */display: inline-block !important;position: relative;}#sk-container-id-1 div.sk-text-repr-fallback {display: none;}</style><div id=\"sk-container-id-1\" class=\"sk-top-container\"><div class=\"sk-text-repr-fallback\"><pre>LinearRegression()</pre><b>In a Jupyter environment, please rerun this cell to show the HTML representation or trust the notebook. <br />On GitHub, the HTML representation is unable to render, please try loading this page with nbviewer.org.</b></div><div class=\"sk-container\" hidden><div class=\"sk-item\"><div class=\"sk-estimator sk-toggleable\"><input class=\"sk-toggleable__control sk-hidden--visually\" id=\"sk-estimator-id-1\" type=\"checkbox\" checked><label for=\"sk-estimator-id-1\" class=\"sk-toggleable__label sk-toggleable__label-arrow\">LinearRegression</label><div class=\"sk-toggleable__content\"><pre>LinearRegression()</pre></div></div></div></div></div>"
      ],
      "text/plain": [
       "LinearRegression()"
      ]
     },
     "execution_count": 46,
     "metadata": {},
     "output_type": "execute_result"
    }
   ],
   "source": [
    "linear.fit(X_train,Y_train)"
   ]
  },
  {
   "cell_type": "code",
   "execution_count": 47,
   "id": "995fc9f1",
   "metadata": {
    "scrolled": true
   },
   "outputs": [
    {
     "data": {
      "text/plain": [
       "0.7211175576505788"
      ]
     },
     "execution_count": 47,
     "metadata": {},
     "output_type": "execute_result"
    }
   ],
   "source": [
    "linear.score(X_train,Y_train)"
   ]
  },
  {
   "cell_type": "code",
   "execution_count": 48,
   "id": "d8600a6f",
   "metadata": {},
   "outputs": [
    {
     "data": {
      "text/plain": [
       "0.7950279448881193"
      ]
     },
     "execution_count": 48,
     "metadata": {},
     "output_type": "execute_result"
    }
   ],
   "source": [
    "linear.score(X_test,Y_test)"
   ]
  },
  {
   "cell_type": "markdown",
   "id": "6b60a708",
   "metadata": {},
   "source": [
    "# Fit Ridge Regression Model"
   ]
  },
  {
   "cell_type": "code",
   "execution_count": 49,
   "id": "a44f0056",
   "metadata": {},
   "outputs": [
    {
     "data": {
      "text/html": [
       "<style>#sk-container-id-2 {color: black;background-color: white;}#sk-container-id-2 pre{padding: 0;}#sk-container-id-2 div.sk-toggleable {background-color: white;}#sk-container-id-2 label.sk-toggleable__label {cursor: pointer;display: block;width: 100%;margin-bottom: 0;padding: 0.3em;box-sizing: border-box;text-align: center;}#sk-container-id-2 label.sk-toggleable__label-arrow:before {content: \"▸\";float: left;margin-right: 0.25em;color: #696969;}#sk-container-id-2 label.sk-toggleable__label-arrow:hover:before {color: black;}#sk-container-id-2 div.sk-estimator:hover label.sk-toggleable__label-arrow:before {color: black;}#sk-container-id-2 div.sk-toggleable__content {max-height: 0;max-width: 0;overflow: hidden;text-align: left;background-color: #f0f8ff;}#sk-container-id-2 div.sk-toggleable__content pre {margin: 0.2em;color: black;border-radius: 0.25em;background-color: #f0f8ff;}#sk-container-id-2 input.sk-toggleable__control:checked~div.sk-toggleable__content {max-height: 200px;max-width: 100%;overflow: auto;}#sk-container-id-2 input.sk-toggleable__control:checked~label.sk-toggleable__label-arrow:before {content: \"▾\";}#sk-container-id-2 div.sk-estimator input.sk-toggleable__control:checked~label.sk-toggleable__label {background-color: #d4ebff;}#sk-container-id-2 div.sk-label input.sk-toggleable__control:checked~label.sk-toggleable__label {background-color: #d4ebff;}#sk-container-id-2 input.sk-hidden--visually {border: 0;clip: rect(1px 1px 1px 1px);clip: rect(1px, 1px, 1px, 1px);height: 1px;margin: -1px;overflow: hidden;padding: 0;position: absolute;width: 1px;}#sk-container-id-2 div.sk-estimator {font-family: monospace;background-color: #f0f8ff;border: 1px dotted black;border-radius: 0.25em;box-sizing: border-box;margin-bottom: 0.5em;}#sk-container-id-2 div.sk-estimator:hover {background-color: #d4ebff;}#sk-container-id-2 div.sk-parallel-item::after {content: \"\";width: 100%;border-bottom: 1px solid gray;flex-grow: 1;}#sk-container-id-2 div.sk-label:hover label.sk-toggleable__label {background-color: #d4ebff;}#sk-container-id-2 div.sk-serial::before {content: \"\";position: absolute;border-left: 1px solid gray;box-sizing: border-box;top: 0;bottom: 0;left: 50%;z-index: 0;}#sk-container-id-2 div.sk-serial {display: flex;flex-direction: column;align-items: center;background-color: white;padding-right: 0.2em;padding-left: 0.2em;position: relative;}#sk-container-id-2 div.sk-item {position: relative;z-index: 1;}#sk-container-id-2 div.sk-parallel {display: flex;align-items: stretch;justify-content: center;background-color: white;position: relative;}#sk-container-id-2 div.sk-item::before, #sk-container-id-2 div.sk-parallel-item::before {content: \"\";position: absolute;border-left: 1px solid gray;box-sizing: border-box;top: 0;bottom: 0;left: 50%;z-index: -1;}#sk-container-id-2 div.sk-parallel-item {display: flex;flex-direction: column;z-index: 1;position: relative;background-color: white;}#sk-container-id-2 div.sk-parallel-item:first-child::after {align-self: flex-end;width: 50%;}#sk-container-id-2 div.sk-parallel-item:last-child::after {align-self: flex-start;width: 50%;}#sk-container-id-2 div.sk-parallel-item:only-child::after {width: 0;}#sk-container-id-2 div.sk-dashed-wrapped {border: 1px dashed gray;margin: 0 0.4em 0.5em 0.4em;box-sizing: border-box;padding-bottom: 0.4em;background-color: white;}#sk-container-id-2 div.sk-label label {font-family: monospace;font-weight: bold;display: inline-block;line-height: 1.2em;}#sk-container-id-2 div.sk-label-container {text-align: center;}#sk-container-id-2 div.sk-container {/* jupyter's `normalize.less` sets `[hidden] { display: none; }` but bootstrap.min.css set `[hidden] { display: none !important; }` so we also need the `!important` here to be able to override the default hidden behavior on the sphinx rendered scikit-learn.org. See: https://github.com/scikit-learn/scikit-learn/issues/21755 */display: inline-block !important;position: relative;}#sk-container-id-2 div.sk-text-repr-fallback {display: none;}</style><div id=\"sk-container-id-2\" class=\"sk-top-container\"><div class=\"sk-text-repr-fallback\"><pre>Ridge()</pre><b>In a Jupyter environment, please rerun this cell to show the HTML representation or trust the notebook. <br />On GitHub, the HTML representation is unable to render, please try loading this page with nbviewer.org.</b></div><div class=\"sk-container\" hidden><div class=\"sk-item\"><div class=\"sk-estimator sk-toggleable\"><input class=\"sk-toggleable__control sk-hidden--visually\" id=\"sk-estimator-id-2\" type=\"checkbox\" checked><label for=\"sk-estimator-id-2\" class=\"sk-toggleable__label sk-toggleable__label-arrow\">Ridge</label><div class=\"sk-toggleable__content\"><pre>Ridge()</pre></div></div></div></div></div>"
      ],
      "text/plain": [
       "Ridge()"
      ]
     },
     "execution_count": 49,
     "metadata": {},
     "output_type": "execute_result"
    }
   ],
   "source": [
    "ridg = Ridge()\n",
    "ridg.fit(X_train, Y_train)"
   ]
  },
  {
   "cell_type": "code",
   "execution_count": 50,
   "id": "b4e830b5",
   "metadata": {},
   "outputs": [
    {
     "data": {
      "text/plain": [
       "0.7210842696560107"
      ]
     },
     "execution_count": 50,
     "metadata": {},
     "output_type": "execute_result"
    }
   ],
   "source": [
    "ridg.score(X_train, Y_train)"
   ]
  },
  {
   "cell_type": "code",
   "execution_count": 51,
   "id": "0a9c80ea",
   "metadata": {},
   "outputs": [
    {
     "data": {
      "text/plain": [
       "0.7937191496535485"
      ]
     },
     "execution_count": 51,
     "metadata": {},
     "output_type": "execute_result"
    }
   ],
   "source": [
    "ridg.score(X_test, Y_test)"
   ]
  },
  {
   "cell_type": "markdown",
   "id": "a0f773c3",
   "metadata": {},
   "source": [
    "# Fit Random Forest Regressor"
   ]
  },
  {
   "cell_type": "code",
   "execution_count": 52,
   "id": "8488947b",
   "metadata": {},
   "outputs": [],
   "source": [
    "rfr =RandomForestRegressor()"
   ]
  },
  {
   "cell_type": "code",
   "execution_count": 53,
   "id": "a7f1a155",
   "metadata": {},
   "outputs": [
    {
     "data": {
      "text/html": [
       "<style>#sk-container-id-3 {color: black;background-color: white;}#sk-container-id-3 pre{padding: 0;}#sk-container-id-3 div.sk-toggleable {background-color: white;}#sk-container-id-3 label.sk-toggleable__label {cursor: pointer;display: block;width: 100%;margin-bottom: 0;padding: 0.3em;box-sizing: border-box;text-align: center;}#sk-container-id-3 label.sk-toggleable__label-arrow:before {content: \"▸\";float: left;margin-right: 0.25em;color: #696969;}#sk-container-id-3 label.sk-toggleable__label-arrow:hover:before {color: black;}#sk-container-id-3 div.sk-estimator:hover label.sk-toggleable__label-arrow:before {color: black;}#sk-container-id-3 div.sk-toggleable__content {max-height: 0;max-width: 0;overflow: hidden;text-align: left;background-color: #f0f8ff;}#sk-container-id-3 div.sk-toggleable__content pre {margin: 0.2em;color: black;border-radius: 0.25em;background-color: #f0f8ff;}#sk-container-id-3 input.sk-toggleable__control:checked~div.sk-toggleable__content {max-height: 200px;max-width: 100%;overflow: auto;}#sk-container-id-3 input.sk-toggleable__control:checked~label.sk-toggleable__label-arrow:before {content: \"▾\";}#sk-container-id-3 div.sk-estimator input.sk-toggleable__control:checked~label.sk-toggleable__label {background-color: #d4ebff;}#sk-container-id-3 div.sk-label input.sk-toggleable__control:checked~label.sk-toggleable__label {background-color: #d4ebff;}#sk-container-id-3 input.sk-hidden--visually {border: 0;clip: rect(1px 1px 1px 1px);clip: rect(1px, 1px, 1px, 1px);height: 1px;margin: -1px;overflow: hidden;padding: 0;position: absolute;width: 1px;}#sk-container-id-3 div.sk-estimator {font-family: monospace;background-color: #f0f8ff;border: 1px dotted black;border-radius: 0.25em;box-sizing: border-box;margin-bottom: 0.5em;}#sk-container-id-3 div.sk-estimator:hover {background-color: #d4ebff;}#sk-container-id-3 div.sk-parallel-item::after {content: \"\";width: 100%;border-bottom: 1px solid gray;flex-grow: 1;}#sk-container-id-3 div.sk-label:hover label.sk-toggleable__label {background-color: #d4ebff;}#sk-container-id-3 div.sk-serial::before {content: \"\";position: absolute;border-left: 1px solid gray;box-sizing: border-box;top: 0;bottom: 0;left: 50%;z-index: 0;}#sk-container-id-3 div.sk-serial {display: flex;flex-direction: column;align-items: center;background-color: white;padding-right: 0.2em;padding-left: 0.2em;position: relative;}#sk-container-id-3 div.sk-item {position: relative;z-index: 1;}#sk-container-id-3 div.sk-parallel {display: flex;align-items: stretch;justify-content: center;background-color: white;position: relative;}#sk-container-id-3 div.sk-item::before, #sk-container-id-3 div.sk-parallel-item::before {content: \"\";position: absolute;border-left: 1px solid gray;box-sizing: border-box;top: 0;bottom: 0;left: 50%;z-index: -1;}#sk-container-id-3 div.sk-parallel-item {display: flex;flex-direction: column;z-index: 1;position: relative;background-color: white;}#sk-container-id-3 div.sk-parallel-item:first-child::after {align-self: flex-end;width: 50%;}#sk-container-id-3 div.sk-parallel-item:last-child::after {align-self: flex-start;width: 50%;}#sk-container-id-3 div.sk-parallel-item:only-child::after {width: 0;}#sk-container-id-3 div.sk-dashed-wrapped {border: 1px dashed gray;margin: 0 0.4em 0.5em 0.4em;box-sizing: border-box;padding-bottom: 0.4em;background-color: white;}#sk-container-id-3 div.sk-label label {font-family: monospace;font-weight: bold;display: inline-block;line-height: 1.2em;}#sk-container-id-3 div.sk-label-container {text-align: center;}#sk-container-id-3 div.sk-container {/* jupyter's `normalize.less` sets `[hidden] { display: none; }` but bootstrap.min.css set `[hidden] { display: none !important; }` so we also need the `!important` here to be able to override the default hidden behavior on the sphinx rendered scikit-learn.org. See: https://github.com/scikit-learn/scikit-learn/issues/21755 */display: inline-block !important;position: relative;}#sk-container-id-3 div.sk-text-repr-fallback {display: none;}</style><div id=\"sk-container-id-3\" class=\"sk-top-container\"><div class=\"sk-text-repr-fallback\"><pre>RandomForestRegressor()</pre><b>In a Jupyter environment, please rerun this cell to show the HTML representation or trust the notebook. <br />On GitHub, the HTML representation is unable to render, please try loading this page with nbviewer.org.</b></div><div class=\"sk-container\" hidden><div class=\"sk-item\"><div class=\"sk-estimator sk-toggleable\"><input class=\"sk-toggleable__control sk-hidden--visually\" id=\"sk-estimator-id-3\" type=\"checkbox\" checked><label for=\"sk-estimator-id-3\" class=\"sk-toggleable__label sk-toggleable__label-arrow\">RandomForestRegressor</label><div class=\"sk-toggleable__content\"><pre>RandomForestRegressor()</pre></div></div></div></div></div>"
      ],
      "text/plain": [
       "RandomForestRegressor()"
      ]
     },
     "execution_count": 53,
     "metadata": {},
     "output_type": "execute_result"
    }
   ],
   "source": [
    "rfr.fit(X_train, Y_train)"
   ]
  },
  {
   "cell_type": "code",
   "execution_count": 54,
   "id": "2286a26a",
   "metadata": {},
   "outputs": [
    {
     "data": {
      "text/plain": [
       "0.9808411092234205"
      ]
     },
     "execution_count": 54,
     "metadata": {},
     "output_type": "execute_result"
    }
   ],
   "source": [
    "rfr.score(X_train, Y_train)"
   ]
  },
  {
   "cell_type": "code",
   "execution_count": 55,
   "id": "fd60e35c",
   "metadata": {},
   "outputs": [
    {
     "data": {
      "text/plain": [
       "0.8827401385913711"
      ]
     },
     "execution_count": 55,
     "metadata": {},
     "output_type": "execute_result"
    }
   ],
   "source": [
    "rfr.score(X_test,Y_test)"
   ]
  },
  {
   "cell_type": "code",
   "execution_count": 73,
   "id": "d5d38521",
   "metadata": {},
   "outputs": [],
   "source": [
    "import joblib\n",
    "import pickle"
   ]
  },
  {
   "cell_type": "code",
   "execution_count": 74,
   "id": "5aee0d61",
   "metadata": {},
   "outputs": [],
   "source": [
    "pickle.dump(rfr, open(\"mobile_phone_price.pkl\",'wb'))\n"
   ]
  },
  {
   "cell_type": "code",
   "execution_count": 76,
   "id": "e08857b2",
   "metadata": {},
   "outputs": [],
   "source": [
    "rfr_model = pickle.load(open('mobile_phone_price.pkl','rb'))"
   ]
  },
  {
   "cell_type": "code",
   "execution_count": 77,
   "id": "9e414eb9",
   "metadata": {},
   "outputs": [
    {
     "data": {
      "text/plain": [
       "0.8827401385913711"
      ]
     },
     "execution_count": 77,
     "metadata": {},
     "output_type": "execute_result"
    }
   ],
   "source": [
    "rfr_model.score(X_test, Y_test)"
   ]
  },
  {
   "cell_type": "markdown",
   "id": "6e447b80",
   "metadata": {},
   "source": [
    "# Getting price with given specifications"
   ]
  },
  {
   "cell_type": "code",
   "execution_count": 78,
   "id": "eed0a4e7",
   "metadata": {},
   "outputs": [],
   "source": [
    "input_data = {\n",
    "    'Storage':128,\n",
    "    'RAM':6,\n",
    "    'Screen':6.5,\n",
    "    'Battery':4500,\n",
    "    'CamPixels':60,\n",
    "    'codeBrand':1\n",
    "}"
   ]
  },
  {
   "cell_type": "code",
   "execution_count": 79,
   "id": "c5292782",
   "metadata": {},
   "outputs": [],
   "source": [
    "input1 = pd.DataFrame([input_data])"
   ]
  },
  {
   "cell_type": "code",
   "execution_count": 80,
   "id": "5aa30d0a",
   "metadata": {},
   "outputs": [],
   "source": [
    "price = rfr_model.predict(input1)"
   ]
  },
  {
   "cell_type": "code",
   "execution_count": 81,
   "id": "9f9a09ad",
   "metadata": {},
   "outputs": [
    {
     "name": "stdout",
     "output_type": "stream",
     "text": [
      "[541.56416667]\n"
     ]
    }
   ],
   "source": [
    "print( price)"
   ]
  },
  {
   "cell_type": "code",
   "execution_count": 82,
   "id": "7595da38",
   "metadata": {},
   "outputs": [],
   "source": [
    "Estimated_Price = price[0]"
   ]
  },
  {
   "cell_type": "code",
   "execution_count": 83,
   "id": "ada48db4",
   "metadata": {},
   "outputs": [
    {
     "name": "stdout",
     "output_type": "stream",
     "text": [
      "541.5641666666667\n"
     ]
    }
   ],
   "source": [
    "print(Estimated_Price)"
   ]
  },
  {
   "cell_type": "code",
   "execution_count": null,
   "id": "8531c7fe",
   "metadata": {},
   "outputs": [],
   "source": []
  }
 ],
 "metadata": {
  "kernelspec": {
   "display_name": "Python 3 (ipykernel)",
   "language": "python",
   "name": "python3"
  },
  "language_info": {
   "codemirror_mode": {
    "name": "ipython",
    "version": 3
   },
   "file_extension": ".py",
   "mimetype": "text/x-python",
   "name": "python",
   "nbconvert_exporter": "python",
   "pygments_lexer": "ipython3",
   "version": "3.11.3"
  }
 },
 "nbformat": 4,
 "nbformat_minor": 5
}
